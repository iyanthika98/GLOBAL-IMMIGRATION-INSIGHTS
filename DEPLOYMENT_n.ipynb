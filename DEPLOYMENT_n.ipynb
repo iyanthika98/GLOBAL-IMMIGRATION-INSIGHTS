{
 "cells": [
  {
   "cell_type": "code",
   "execution_count": 6,
   "id": "cf85d3db",
   "metadata": {},
   "outputs": [
    {
     "name": "stdout",
     "output_type": "stream",
     "text": [
      "Naive Bayes Accuracy: 0.9041258031788976\n",
      "Model and Label Encoder have been serialized into pickle files.\n"
     ]
    }
   ],
   "source": [
    "import pandas as pd\n",
    "from sklearn.model_selection import train_test_split\n",
    "from sklearn.preprocessing import StandardScaler, OneHotEncoder, FunctionTransformer\n",
    "from sklearn.impute import SimpleImputer\n",
    "from sklearn.compose import ColumnTransformer\n",
    "from sklearn.pipeline import Pipeline\n",
    "from sklearn.naive_bayes import GaussianNB\n",
    "from sklearn.metrics import accuracy_score\n",
    "from sklearn.preprocessing import LabelEncoder\n",
    "import joblib\n",
    "\n",
    "def dense_transform(X):\n",
    "    if hasattr(X, 'toarray'):\n",
    "        return X.toarray()\n",
    "    return X\n",
    "\n",
    "data_path = r\"D:\\SEMESTER_4\\deploy_all\\v6.csv\"\n",
    "data = pd.read_csv(data_path)\n",
    "\n",
    "numerical_cols = ['Value', 'Population', 'hci_Rank', 'hci_index', 'hdi_index', 'migration_country_population']\n",
    "categorical_cols = ['Country_code', 'nationality_country', 'Variable', 'Year_x', 'migration_country_population_bins']\n",
    "\n",
    "numerical_transformer = Pipeline([\n",
    "    ('imputer', SimpleImputer(strategy='median')),\n",
    "    ('scaler', StandardScaler())\n",
    "])\n",
    "\n",
    "categorical_transformer = Pipeline([\n",
    "    ('imputer', SimpleImputer(strategy='most_frequent')),\n",
    "    ('onehot', OneHotEncoder(handle_unknown='ignore', sparse_output=False))\n",
    "])\n",
    "\n",
    "preprocessor = ColumnTransformer(\n",
    "    transformers=[\n",
    "        ('num', numerical_transformer, numerical_cols),\n",
    "        ('cat', categorical_transformer, categorical_cols)\n",
    "    ])\n",
    "\n",
    "dense_transformer = FunctionTransformer(dense_transform, accept_sparse=True)\n",
    "\n",
    "naive_bayes_model = Pipeline([\n",
    "    ('preprocessor', preprocessor),\n",
    "    ('to_dense', dense_transformer),\n",
    "    ('classifier', GaussianNB())\n",
    "])\n",
    "naive_bayes_model.fit(X_train, y_train)\n",
    "\n",
    "naive_bayes_preds = naive_bayes_model.predict(X_test)\n",
    "print('Naive Bayes Accuracy:', accuracy_score(y_test, naive_bayes_preds))\n",
    "\n",
    "joblib.dump(naive_bayes_model, 'naive_bayes_model.pkl')\n",
    "joblib.dump(label_encoder, 'label_encoder.pkl')\n",
    "print(\"Model and Label Encoder have been serialized into pickle files.\")\n"
   ]
  },
  {
   "cell_type": "code",
   "execution_count": null,
   "id": "dc3d48c2",
   "metadata": {},
   "outputs": [],
   "source": []
  }
 ],
 "metadata": {
  "kernelspec": {
   "display_name": "Python 3 (ipykernel)",
   "language": "python",
   "name": "python3"
  },
  "language_info": {
   "codemirror_mode": {
    "name": "ipython",
    "version": 3
   },
   "file_extension": ".py",
   "mimetype": "text/x-python",
   "name": "python",
   "nbconvert_exporter": "python",
   "pygments_lexer": "ipython3",
   "version": "3.11.9"
  }
 },
 "nbformat": 4,
 "nbformat_minor": 5
}
